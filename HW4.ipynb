{
  "nbformat": 4,
  "nbformat_minor": 0,
  "metadata": {
    "colab": {
      "provenance": [],
      "include_colab_link": true
    },
    "kernelspec": {
      "name": "python3",
      "display_name": "Python 3"
    },
    "language_info": {
      "name": "python"
    }
  },
  "cells": [
    {
      "cell_type": "markdown",
      "metadata": {
        "id": "view-in-github",
        "colab_type": "text"
      },
      "source": [
        "<a href=\"https://colab.research.google.com/github/linyu329/Early-treatment_key-function-score/blob/main/HW4.ipynb\" target=\"_parent\"><img src=\"https://colab.research.google.com/assets/colab-badge.svg\" alt=\"Open In Colab\"/></a>"
      ]
    },
    {
      "cell_type": "markdown",
      "source": [
        "# HW4_程式練習 (II)"
      ],
      "metadata": {
        "id": "bQ6YkMLxXGQt"
      }
    },
    {
      "cell_type": "markdown",
      "source": [
        "## 題目一 (25%)\n",
        "\n",
        "\n",
        "以下有一個 list：\n",
        "\n",
        "```\n",
        "numbers = [51, 30, 78, 20, 96, 40, 62]\n",
        "```\n",
        "\n",
        "### 任務內容\n",
        "1. 印出該 list 中的第 1 個數字、第 3 個數字與最後一個數字。\n",
        "2. 印出 list 中的最大值與最小值。\n",
        "3. 將 list 中的數字由小到大排序後印出。\n",
        "4. 計算並印出總和與平均值（平均值保留到小數點第 2 位）。\n",
        "5. 將大於等於 50 的數字存入新的 list，並印出此 list。\n",
        "\n",
        "\n"
      ],
      "metadata": {
        "id": "kXpZGNHGXhs1"
      }
    },
    {
      "cell_type": "code",
      "execution_count": 2,
      "metadata": {
        "id": "zSvt9ox6WwQe",
        "outputId": "36926139-eded-403a-93e5-de68a1a40a4a",
        "colab": {
          "base_uri": "https://localhost:8080/"
        }
      },
      "outputs": [
        {
          "output_type": "stream",
          "name": "stdout",
          "text": [
            "51\n",
            "78\n",
            "62\n"
          ]
        }
      ],
      "source": [
        "#1\n",
        "numbers = [51, 30, 78, 20, 96, 40, 62]\n",
        "print(numbers[0])\n",
        "print(numbers[2])\n",
        "print(numbers[-1])"
      ]
    },
    {
      "cell_type": "code",
      "source": [
        "#2\n",
        "print(max(numbers))\n",
        "print(min(numbers))"
      ],
      "metadata": {
        "id": "urZ3tcK4HzPS",
        "outputId": "6caf9848-f4bc-424f-dda7-b5043795a7d2",
        "colab": {
          "base_uri": "https://localhost:8080/"
        }
      },
      "execution_count": 3,
      "outputs": [
        {
          "output_type": "stream",
          "name": "stdout",
          "text": [
            "96\n",
            "20\n"
          ]
        }
      ]
    },
    {
      "cell_type": "code",
      "source": [
        "#3\n",
        "print(sorted(numbers))"
      ],
      "metadata": {
        "id": "EN7AiYp1H6_A",
        "outputId": "a99ec033-6890-486b-a416-81dd55041525",
        "colab": {
          "base_uri": "https://localhost:8080/"
        }
      },
      "execution_count": 4,
      "outputs": [
        {
          "output_type": "stream",
          "name": "stdout",
          "text": [
            "[20, 30, 40, 51, 62, 78, 96]\n"
          ]
        }
      ]
    },
    {
      "cell_type": "code",
      "source": [
        "#4\n",
        "print(sum(numbers))\n",
        "print(round(sum(numbers)/len(numbers),2))"
      ],
      "metadata": {
        "id": "mHN3KjO1IAri",
        "outputId": "c53410ff-4ee0-40b5-b54c-4bc5c5ab83d9",
        "colab": {
          "base_uri": "https://localhost:8080/"
        }
      },
      "execution_count": 5,
      "outputs": [
        {
          "output_type": "stream",
          "name": "stdout",
          "text": [
            "377\n",
            "53.86\n"
          ]
        }
      ]
    },
    {
      "cell_type": "code",
      "source": [
        "#5\n",
        "list2=[]\n",
        "for i in numbers:\n",
        "  if i > 50:\n",
        "    list2.append(i)\n",
        "print(list2)"
      ],
      "metadata": {
        "id": "JMef0Ae5IOpF",
        "outputId": "65be3eee-51ad-470e-dd46-baf062d8cd18",
        "colab": {
          "base_uri": "https://localhost:8080/"
        }
      },
      "execution_count": 9,
      "outputs": [
        {
          "output_type": "stream",
          "name": "stdout",
          "text": [
            "[51, 78, 96, 62]\n"
          ]
        }
      ]
    },
    {
      "cell_type": "markdown",
      "source": [
        "## 題目二 (25%)\n",
        "\n",
        "以下為一個包含亞洲國家及其首都的字典，但其中有一些錯誤資訊：\n",
        "\n",
        "```\n",
        "asian_countries = {\n",
        "    'Taiwan': 'Taipei',\n",
        "    'Japan': 'Tokyo',\n",
        "    'South Korea': 'Seoul',\n",
        "    'Myanmar': 'Yangon',\n",
        "    'Germany': 'Berlin'\n",
        "    }\n",
        "```\n",
        "\n",
        "### 任務內容\n",
        "1. 將 `asian_countries` 印出來：\n",
        "```\n",
        "print('舊字典:', asian_countries)\n",
        "```\n",
        "2.  更新 `asian_countries`：\n",
        "    - 將 Myanmar 的首都更正為 Naypyidaw\n",
        "    - 將 Germany 從字典中移除\n",
        "    - 將 Thailand 及其首都 Bangkok 新增到字典中\n",
        "\n",
        "  ```\n",
        "  print('新字典:', asian_countries)\n",
        "  ```\n",
        "3. 將國家按照字母排序，並將排序後的結果指派給一個變數 `sorted_asian_countries` 。\n",
        "  ```\n",
        "  print('排序後新字典:', sorted_asian_countries)\n",
        "  ```"
      ],
      "metadata": {
        "id": "jbgV6MGtXidj"
      }
    },
    {
      "cell_type": "code",
      "source": [
        "#1\n",
        "asian_countries = {\n",
        "    'Taiwan': 'Taipei',\n",
        "    'Japan': 'Tokyo',\n",
        "    'South Korea': 'Seoul',\n",
        "    'Myanmar': 'Yangon',\n",
        "    'Germany': 'Berlin'\n",
        "    }\n",
        "print('舊字典:', asian_countries)"
      ],
      "metadata": {
        "id": "Tq6zcAohXi6P",
        "outputId": "5343d54e-e2df-4b47-a038-ea26ef9c79b8",
        "colab": {
          "base_uri": "https://localhost:8080/"
        }
      },
      "execution_count": 11,
      "outputs": [
        {
          "output_type": "stream",
          "name": "stdout",
          "text": [
            "舊字典: {'Taiwan': 'Taipei', 'Japan': 'Tokyo', 'South Korea': 'Seoul', 'Myanmar': 'Yangon', 'Germany': 'Berlin'}\n"
          ]
        }
      ]
    },
    {
      "cell_type": "code",
      "source": [
        "#2\n",
        "asian_countries[\"Myanmar\"] = \"Naypyidaw\"\n",
        "del asian_countries[\"Germany\"]\n",
        "asian_countries[\"Thailand\"] = \"Bangkok\"\n",
        "print('新字典:', asian_countries)"
      ],
      "metadata": {
        "id": "w-H4erTqIp22",
        "outputId": "307429d4-bb82-4964-b5f7-6b0b13c6a908",
        "colab": {
          "base_uri": "https://localhost:8080/"
        }
      },
      "execution_count": 13,
      "outputs": [
        {
          "output_type": "stream",
          "name": "stdout",
          "text": [
            "新字典: {'Taiwan': 'Taipei', 'Japan': 'Tokyo', 'South Korea': 'Seoul', 'Myanmar': 'Naypyidaw', 'Thailand': 'Bangkok'}\n"
          ]
        }
      ]
    },
    {
      "cell_type": "code",
      "source": [
        "#3\n",
        "sorted_asian_countries = dict(sorted(asian_countries.items()))\n",
        "print('排序後新字典:', sorted_asian_countries)\n"
      ],
      "metadata": {
        "id": "mbUQl_xbJFQh",
        "outputId": "45099eb2-9234-45dc-f381-f73a4e92e34a",
        "colab": {
          "base_uri": "https://localhost:8080/"
        }
      },
      "execution_count": 14,
      "outputs": [
        {
          "output_type": "stream",
          "name": "stdout",
          "text": [
            "排序後新字典: {'Japan': 'Tokyo', 'Myanmar': 'Naypyidaw', 'South Korea': 'Seoul', 'Taiwan': 'Taipei', 'Thailand': 'Bangkok'}\n"
          ]
        }
      ]
    },
    {
      "cell_type": "markdown",
      "source": [
        "## 題目三 (25%)\n",
        "\n",
        "班上有 4 位學生，他們分別有 3 科的考試成績，資料如下：\n",
        "\n",
        "```python\n",
        "scores = {\n",
        "    \"Linda\": [85, 90, 78],\n",
        "    \"Richard\": [72, 88, 91],\n",
        "    \"Una\": [90, 85, 87],\n",
        "    \"Brian\": [60, 75, 70]\n",
        "}\n",
        "```\n",
        "\n",
        "### 任務內容\n",
        "1. 計算每位學生的平均分數。\n",
        "2. 根據平均分數，判斷每位學生的成績評語：\n",
        "  - 平均分數 ≥ 85，評語為「優秀」\n",
        "  - 平均分數 ≥ 70 且 < 85，評語為「及格」\n",
        "  - 平均分數 < 70，評語為「需加強」\n",
        "\n",
        "3. 請印出每位學生的「平均分數」與「評語」。\n",
        "4. 額外統計：\n",
        "  - 計算全班的「總平均分數」。\n",
        "  - 找出「平均分數最高的學生」並印出其姓名與平均分數。\n",
        "\n",
        "\n"
      ],
      "metadata": {
        "id": "Hx3rNLDcZ-wy"
      }
    },
    {
      "cell_type": "code",
      "source": [
        "#1 計算每位學生平均分數\n",
        "scores = {\n",
        "    \"Linda\": [85, 90, 78],\n",
        "    \"Richard\": [72, 88, 91],\n",
        "    \"Una\": [90, 85, 87],\n",
        "    \"Brian\": [60, 75, 70]\n",
        "}\n",
        "\n",
        "mean_scores = {}\n",
        "for name, score in scores.items():\n",
        "    avg = round(sum(score) / len(score),2)\n",
        "    mean_scores[name] = avg\n",
        "print(mean_scores)"
      ],
      "metadata": {
        "id": "bOx8kovoZ-_V",
        "outputId": "7c785f67-2526-40c4-d111-716a2e1bf6a9",
        "colab": {
          "base_uri": "https://localhost:8080/"
        }
      },
      "execution_count": 21,
      "outputs": [
        {
          "output_type": "stream",
          "name": "stdout",
          "text": [
            "{'Linda': 84.33, 'Richard': 83.67, 'Una': 87.33, 'Brian': 68.33}\n"
          ]
        }
      ]
    },
    {
      "cell_type": "code",
      "source": [
        "#2\n",
        "def grade(avg):\n",
        "  if avg>= 85:\n",
        "    return \"優秀\"\n",
        "  elif avg >= 70:\n",
        "    return \"及格\"\n",
        "  else:\n",
        "    return \"需加強\""
      ],
      "metadata": {
        "id": "RxEns7yOKmM_"
      },
      "execution_count": 32,
      "outputs": []
    },
    {
      "cell_type": "code",
      "source": [
        "#3\n",
        "for name, score in mean_scores.items():\n",
        "  print(name, score, grade(score))\n"
      ],
      "metadata": {
        "id": "bAMhRKiEMVYC",
        "outputId": "a7ec44a5-41f0-45fe-df07-dc352e96897f",
        "colab": {
          "base_uri": "https://localhost:8080/"
        }
      },
      "execution_count": 33,
      "outputs": [
        {
          "output_type": "stream",
          "name": "stdout",
          "text": [
            "Linda 84.33 及格\n",
            "Richard 83.67 及格\n",
            "Una 87.33 優秀\n",
            "Brian 68.33 需加強\n"
          ]
        }
      ]
    },
    {
      "cell_type": "markdown",
      "source": [
        "## 題目四 (25%)\n",
        "\n",
        "我們假設一組有效的密碼必須符合以下條件：\n",
        "\n",
        "- 長度大於 5 個字元\n",
        "- 必須包含：\n",
        "   - 大寫英文字母\n",
        "   - 小寫英文字母\n",
        "   - 數字\n",
        "- 不可以有空白  \n",
        "<br/>\n",
        "\n",
        "### 任務內容\n",
        "1. 請針對以上條件，撰寫一個函數 `check_password()`，判斷傳入的字串是否為有效密碼。如果輸入為有效密碼，函數將回傳 `Valid Password`；如果是無效密碼，函數回傳 `INVALID`。\n",
        "2. 請使用你的函數印出以下結果  \n",
        "```\n",
        "check_password(\"GenAI4Humanities\")\n",
        "check_password(\"genai4humanities\")\n",
        "check_password(\"GENAI4HUMANITIES\")\n",
        "check_password(\"GenAIGenAI\")\n",
        "check_password(\"GenAI 2025\")\n",
        "check_password(\"GenAI\")\n",
        "```"
      ],
      "metadata": {
        "id": "zSAycbMmZ_Ur"
      }
    },
    {
      "cell_type": "code",
      "source": [
        "def check_password(i):\n",
        "    if len(i) <= 5:\n",
        "        return \"INVALID\"\n",
        "    elif not any(char.isupper() for char in i):\n",
        "        return \"INVALID\"\n",
        "    elif not any(char.islower() for char in i):\n",
        "        return \"INVALID\"\n",
        "    elif not any(char.isdigit() for char in i):\n",
        "        return \"INVALID\"\n",
        "    elif any(char.isspace() for char in i):\n",
        "        return \"INVALID\"\n",
        "    else:\n",
        "        return \"Valid Password\"\n"
      ],
      "metadata": {
        "id": "tvYzrt9BaDkr"
      },
      "execution_count": 42,
      "outputs": []
    },
    {
      "cell_type": "code",
      "source": [
        "print(check_password(\"GenAI4Humanities\"))\n",
        "print(check_password(\"genai4humanities\"))\n",
        "print(check_password(\"GENAI4HUMANITIES\"))\n",
        "print(check_password(\"GenAIGenAI\"))\n",
        "print(check_password(\"GenAI 2025\"))\n",
        "print(check_password(\"GenAI\"))"
      ],
      "metadata": {
        "id": "znN2G0opPTf5",
        "outputId": "ba5cbee2-71f9-4760-ea85-326a2ea6f779",
        "colab": {
          "base_uri": "https://localhost:8080/"
        }
      },
      "execution_count": 45,
      "outputs": [
        {
          "output_type": "stream",
          "name": "stdout",
          "text": [
            "Valid Password\n",
            "INVALID\n",
            "INVALID\n",
            "INVALID\n",
            "INVALID\n",
            "INVALID\n"
          ]
        }
      ]
    }
  ]
}